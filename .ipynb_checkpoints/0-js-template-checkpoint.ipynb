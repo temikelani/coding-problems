{
 "cells": [
  {
   "cell_type": "markdown",
   "id": "392cf7b0",
   "metadata": {},
   "source": [
    "# Tags"
   ]
  },
  {
   "cell_type": "code",
   "execution_count": 1,
   "id": "27558b7a",
   "metadata": {},
   "outputs": [],
   "source": [
    "#tag goes here"
   ]
  },
  {
   "cell_type": "markdown",
   "id": "e4fa6dbf",
   "metadata": {},
   "source": [
    "----"
   ]
  },
  {
   "cell_type": "markdown",
   "id": "1169bb24",
   "metadata": {},
   "source": [
    "# Problem: "
   ]
  },
  {
   "cell_type": "code",
   "execution_count": 1,
   "id": "0ee14536",
   "metadata": {
    "scrolled": true
   },
   "outputs": [
    {
     "name": "stdout",
     "output_type": "stream",
     "text": [
      "zsh:1: unknown file attribute: i\r\n"
     ]
    }
   ],
   "source": [
    "![](./images/)"
   ]
  },
  {
   "cell_type": "markdown",
   "id": "8b6f10f4",
   "metadata": {},
   "source": [
    "### Link / Source"
   ]
  },
  {
   "cell_type": "markdown",
   "id": "50443ded",
   "metadata": {},
   "source": [
    "Hackerrank:"
   ]
  },
  {
   "cell_type": "markdown",
   "id": "75fcee35",
   "metadata": {},
   "source": [
    "Leetcode:"
   ]
  },
  {
   "cell_type": "markdown",
   "id": "78fb6d3d",
   "metadata": {},
   "source": [
    "----"
   ]
  },
  {
   "cell_type": "markdown",
   "id": "e8318d2a",
   "metadata": {},
   "source": [
    "# Pseudo-code"
   ]
  },
  {
   "cell_type": "markdown",
   "id": "4479c3a4",
   "metadata": {},
   "source": [
    "Run scenarios here: "
   ]
  },
  {
   "cell_type": "markdown",
   "id": "ecc17fce",
   "metadata": {},
   "source": [
    "----"
   ]
  },
  {
   "cell_type": "markdown",
   "id": "bd959d5e",
   "metadata": {},
   "source": [
    "# Solution"
   ]
  },
  {
   "cell_type": "code",
   "execution_count": null,
   "id": "2246a1cf",
   "metadata": {},
   "outputs": [],
   "source": []
  },
  {
   "cell_type": "markdown",
   "id": "2397ac8c",
   "metadata": {},
   "source": [
    "----"
   ]
  },
  {
   "cell_type": "markdown",
   "id": "5c7e0ed8",
   "metadata": {},
   "source": [
    "# Code in one box"
   ]
  },
  {
   "cell_type": "markdown",
   "id": "4569d2bd",
   "metadata": {},
   "source": [
    "```\n",
    "Enter code here\n",
    "```"
   ]
  },
  {
   "cell_type": "markdown",
   "id": "dd7b03b9",
   "metadata": {},
   "source": [
    "----"
   ]
  },
  {
   "cell_type": "markdown",
   "id": "bb161f56",
   "metadata": {},
   "source": [
    "# Taking it further"
   ]
  },
  {
   "cell_type": "code",
   "execution_count": null,
   "id": "e2347dc3",
   "metadata": {},
   "outputs": [],
   "source": []
  }
 ],
 "metadata": {
  "kernelspec": {
   "display_name": "JavaScript (Node.js)",
   "language": "javascript",
   "name": "javascript"
  },
  "language_info": {
   "file_extension": ".js",
   "mimetype": "application/javascript",
   "name": "javascript",
   "version": "18.2.0"
  }
 },
 "nbformat": 4,
 "nbformat_minor": 5
}
