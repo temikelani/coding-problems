{
 "cells": [
  {
   "cell_type": "markdown",
   "id": "fce822bd",
   "metadata": {},
   "source": [
    "<a id=\"top\"></a>\n",
    "# Table of contents"
   ]
  },
  {
   "cell_type": "markdown",
   "id": "f937536a",
   "metadata": {},
   "source": [
    "- [1. operators: `Arithmetic Operators`](#1)  \n",
    "- [1.1 Operators: `Comparison, Relational Operators`](#1.1)\n",
    "- [1.2 operators: `Truthy / Falsy`](#1.2)\n",
    "- [1.3 operators: `Assignment Operators`](#1.3)\n",
    "- [1.4 operators: `Logical Operators`](#1.4)\n",
    "<hr>\n",
    "- [2. BuiltIns: `Math`](#2)   \n",
    "<hr>\n",
    "- [3. strings: in loops/sequences](#3)\n",
    "- [3.1 strings:` multi-line strings`](#3.1)\n",
    "- [3.2 strings: `string immutability`](#3.2)\n",
    "- [3.3 strings: `ascii vs unicode`](#3.3)\n",
    "- [4. strings: with `input()`](#4)\n",
    "- [5. string: Splicing & Indexing](#5)\n",
    "- [6. string: backslash/newline](#6)\n",
    "- [7. string: raw format](#7)\n",
    "- [8. string: formatting/templating](#8)\n",
    "- [8.1. string: formatting using `f'{}'`](#8.1)\n",
    "- [9. string: operators : `+`, `*`](#9)\n",
    "- [10. strings: `len()`](#10)\n",
    "- [11. strings: `.split()`](#11)\n",
    "- [12. strings : `.capitalise()`](#13)\n",
    "- [13. strings: `.upper()` and `.lower()`](#13)\n",
    "- [14. strings: `swapcase()`](#14)\n",
    "- [15. strings: `.title()`](#15)\n",
    "- [16. strings:  `in` and `not in`](#16)\n",
    "- [17. strings: `.count()`](#17)\n",
    "- [18. strings: `.replace()`](#18)\n",
    "- [19. strings: `.center()`](#19)\n",
    "- [20. strings: `.ljust()` & `.rjust()`](#20)\n",
    "- [21. strings: `.find()`](#21)\n",
    "- [22. strings: `.rfind()`](#22)\n",
    "- [23. strings: `.join()`](#23)\n",
    "- [24. strings: `lstrip()` & `rstrip()` & `.strip()`](#24)\n",
    "<hr>\n",
    "- [25. input: `* unpacking` ](#25)\n",
    "- [25a. input\" `map`](#25a)\n",
    "<hr>\n",
    "- [26. list: splicing & indexing](#26)\n",
    "- [27. list: `+ & *`](#27)\n",
    "- [28. list: `len()`](#28)\n",
    "- [29. list: `sorted()`](#29)\n",
    "- [30. list: `.sort()`](#30)\n",
    "- [31. list: `extend()`](#31)\n",
    "- [32. list: `append`](#32)\n",
    "- [33. list: `in`](#33)\n",
    "- [34. list: `list()`](#34)\n",
    "- [35. list: `sum()`](#35)\n",
    "- [36. list: `.index()`](#36)\n",
    "- [37. list: `.set()`](#37)\n",
    "- [38. list: `.reverse() / reversed()`](#38)\n",
    "- [39. list: `insert(i,x)`](#39)\n",
    "- [40. list: `count(x)`](#40)\n",
    "- [41. list: `remove(x)`](#41)\n",
    "- [42. list: `pop(i)`](#42)\n",
    "- [43. list: `nested lists`](#43)\n",
    "- [44. list: `with for loops`](#44)\n",
    "- [44b. list: `listing iterables`](#44b)\n",
    "- [44c. list: `list comprehensions`](#44c)\n",
    "- [44d. list: `list generators`](#44d)\n",
    "<hr>\n",
    "- [45. dict: `create from list`](#45)\n",
    "- [46. dict: `create from tuple, zip`](#46)\n",
    "- [47. dict: `.keys(), .values()`](#47)\n",
    "- [48. dict: `in`](#48)\n",
    "- [50. dict: `del()`](#50)\n",
    "- [51. dict: `.pop()`](#51)\n",
    "- [52. dict: `.update()`](#52)\n",
    "- [53. dict: `indexing`](#53)\n",
    "- [54. dict: `update / replace`](#54)\n",
    "- [55. dict: `nested dicts`](#55)\n",
    "<hr>\n",
    "- [56. ](#56)\n",
    "- [57. ](#57)\n",
    "- [58. ](#58)\n",
    "- [59. ](#59)\n",
    "- [60. ](#60)\n",
    "<hr>\n",
    "- [61. functions: `definition`](#61)\n",
    "- [62. functions: `multiple arguments`](#62)\n",
    "- [63. functions: `python builtins`](#63)\n",
    "- [64. functions: `return functions`](#64)\n",
    "- [65. functions: `arguments`](#65)\n",
    "- [66. functions: `args - Variable Length (Positional) Arguments` ](#66)\n",
    "- [67. functions: `**kwargs - Variable Length Keyword Arguments`](#67)\n",
    "- [68. function: `scope`](#68)\n",
    "- [69. functions: `nested functions`](#69)\n",
    "- [69b. functions: `passing mutable parameters`](#69b)\n",
    "<hr>\n",
    "- [70. lambda functions: `definition`](#70)\n",
    "- [71. lambda function: `map()`](#71)\n",
    "- [72. lambda functions: `filter()`](#72)\n",
    "- [73. lambda functions: `reduce()`](#73)\n",
    "<hr>\n",
    "- [74. loops: `if -if statement`](#74)\n",
    "- [75. loops: `if-else statements`](#75)\n",
    "- [76. loops: `if-elif-else statements`](#76)\n",
    "- [77. loops: `for loops`](#77)\n",
    "- [78. loops: `enumerate`](#78)\n",
    "- [79. loops: `zip()`](#79)\n",
    "- [80. loops: `iter()`](#80)\n",
    "- [81. loops: `while loop`](#81)\n",
    "<hr>\n",
    "- [82. useful code: simultaneous assignment](#82)\n",
    "- [83. useful code: `common imports`](#83)\n",
    "- [84. useful code: `name = main`](#84)\n",
    "- [84b. useful code: `* unpacking`](#84b)\n",
    "- [84c. useful code: `any()`](#84c)\n",
    "- [84d. useful code: `str.isalpha()/isdigit()/isalnum()/islower()/isupper()`](#84d)\n",
    "- [84e. useful code: `textwrap` ](#84e)\n",
    "- [84f. useful code: `zip`](#84f)\n",
    "- [84g. useful code: `set`](#84g)\n",
    "- [84h. useful code: `set comprehensions`](#84h)\n",
    "<hr>\n",
    "- [85. print: `newline`](#85)\n",
    "- [86. print: `end=''`](#86)\n",
    "- [87. print: `sep`](#87)\n",
    "- [88.](#88)\n",
    "- [89.](#89)\n",
    "- [90.](#90)\n",
    "- [91.](#91)\n",
    "- [92.](#92)\n",
    "- [93.](#93)\n",
    "- [94.](#94)\n",
    "- [95.](#95)\n",
    "- [96.](#96)\n",
    "- [97.](#97)\n",
    "- [98.](#98)\n",
    "- [99.](#99)\n",
    "- [100. collections](#100)\n",
    "\n",
    " <a id=\"\"></a> "
   ]
  },
  {
   "cell_type": "markdown",
   "id": "a2b5cf94",
   "metadata": {},
   "source": [
    "____"
   ]
  },
  {
   "cell_type": "markdown",
   "id": "470802e9",
   "metadata": {},
   "source": [
    "<a id=\"1\"></a>\n",
    "# 1. Operators: `Arithmetic`\n",
    "([go to top](#top))"
   ]
  },
  {
   "cell_type": "code",
   "execution_count": 1,
   "id": "5c5d0a9f",
   "metadata": {},
   "outputs": [
    {
     "data": {
      "text/plain": [
       "4"
      ]
     },
     "execution_count": 1,
     "metadata": {},
     "output_type": "execute_result"
    }
   ],
   "source": [
    "2 + 2"
   ]
  },
  {
   "cell_type": "code",
   "execution_count": 2,
   "id": "bf67c85d",
   "metadata": {},
   "outputs": [
    {
     "data": {
      "text/plain": [
       "-2"
      ]
     },
     "execution_count": 2,
     "metadata": {},
     "output_type": "execute_result"
    }
   ],
   "source": [
    "3 - 5"
   ]
  },
  {
   "cell_type": "code",
   "execution_count": 3,
   "id": "b1b3a98d",
   "metadata": {},
   "outputs": [
    {
     "data": {
      "text/plain": [
       "9"
      ]
     },
     "execution_count": 3,
     "metadata": {},
     "output_type": "execute_result"
    }
   ],
   "source": [
    "2 * 4.5"
   ]
  },
  {
   "cell_type": "code",
   "execution_count": 4,
   "id": "73777bed",
   "metadata": {},
   "outputs": [
    {
     "data": {
      "text/plain": [
       "0.5"
      ]
     },
     "execution_count": 4,
     "metadata": {},
     "output_type": "execute_result"
    }
   ],
   "source": [
    "9 / 18"
   ]
  },
  {
   "cell_type": "code",
   "execution_count": 5,
   "id": "5df34658",
   "metadata": {},
   "outputs": [
    {
     "data": {
      "text/plain": [
       "0"
      ]
     },
     "execution_count": 5,
     "metadata": {},
     "output_type": "execute_result"
    }
   ],
   "source": [
    "30 % 10"
   ]
  },
  {
   "cell_type": "code",
   "execution_count": 6,
   "id": "6d8174a2",
   "metadata": {},
   "outputs": [
    {
     "data": {
      "text/plain": [
       "5"
      ]
     },
     "execution_count": 6,
     "metadata": {},
     "output_type": "execute_result"
    }
   ],
   "source": [
    "25 % 10"
   ]
  },
  {
   "cell_type": "code",
   "execution_count": 7,
   "id": "f901cfd7",
   "metadata": {},
   "outputs": [
    {
     "data": {
      "text/plain": [
       "2"
      ]
     },
     "execution_count": 7,
     "metadata": {},
     "output_type": "execute_result"
    }
   ],
   "source": [
    "10 - 2 * 4 "
   ]
  },
  {
   "cell_type": "code",
   "execution_count": 8,
   "id": "0dc9fb8f",
   "metadata": {},
   "outputs": [
    {
     "data": {
      "text/plain": [
       "6"
      ]
     },
     "execution_count": 8,
     "metadata": {},
     "output_type": "execute_result"
    }
   ],
   "source": [
    "10 - 2 * 4 / 2 "
   ]
  },
  {
   "cell_type": "code",
   "execution_count": 9,
   "id": "49b4cb77",
   "metadata": {},
   "outputs": [
    {
     "data": {
      "text/plain": [
       "9"
      ]
     },
     "execution_count": 9,
     "metadata": {},
     "output_type": "execute_result"
    }
   ],
   "source": [
    "10 - 2 * 4 / 2 + 3"
   ]
  },
  {
   "cell_type": "markdown",
   "id": "2fd7920e",
   "metadata": {},
   "source": [
    "division > multiplication > subtraction > addition"
   ]
  },
  {
   "cell_type": "code",
   "execution_count": 10,
   "id": "7e1e2b40",
   "metadata": {},
   "outputs": [
    {
     "data": {
      "text/plain": [
       "4"
      ]
     },
     "execution_count": 10,
     "metadata": {},
     "output_type": "execute_result"
    }
   ],
   "source": [
    "2 ** 2 // raised to power"
   ]
  },
  {
   "cell_type": "code",
   "execution_count": 11,
   "id": "c7e957db",
   "metadata": {},
   "outputs": [
    {
     "data": {
      "text/plain": [
       "8"
      ]
     },
     "execution_count": 11,
     "metadata": {},
     "output_type": "execute_result"
    }
   ],
   "source": [
    "2 ** 3"
   ]
  },
  {
   "cell_type": "code",
   "execution_count": 12,
   "id": "1c5ad3d4",
   "metadata": {},
   "outputs": [
    {
     "data": {
      "text/plain": [
       "32"
      ]
     },
     "execution_count": 12,
     "metadata": {},
     "output_type": "execute_result"
    }
   ],
   "source": [
    "2 ** 5"
   ]
  },
  {
   "cell_type": "code",
   "execution_count": 13,
   "id": "420d17e3",
   "metadata": {},
   "outputs": [
    {
     "name": "stdout",
     "output_type": "stream",
     "text": [
      "3\n"
     ]
    }
   ],
   "source": [
    "num = 2\n",
    "num++\n",
    "console.log(num)"
   ]
  },
  {
   "cell_type": "code",
   "execution_count": 14,
   "id": "714f1dba",
   "metadata": {},
   "outputs": [
    {
     "name": "stdout",
     "output_type": "stream",
     "text": [
      "1\n"
     ]
    }
   ],
   "source": [
    "num = 2\n",
    "num--\n",
    "console.log(num)"
   ]
  },
  {
   "cell_type": "code",
   "execution_count": 15,
   "id": "228fe329",
   "metadata": {},
   "outputs": [
    {
     "name": "stdout",
     "output_type": "stream",
     "text": [
      "1\n"
     ]
    }
   ],
   "source": [
    "num = 2\n",
    "--num\n",
    "console.log(num)"
   ]
  },
  {
   "cell_type": "code",
   "execution_count": 16,
   "id": "67f5379d",
   "metadata": {},
   "outputs": [
    {
     "name": "stdout",
     "output_type": "stream",
     "text": [
      "3\n"
     ]
    }
   ],
   "source": [
    "num = 2\n",
    "++num\n",
    "console.log(num)"
   ]
  },
  {
   "cell_type": "markdown",
   "id": "48361ce4",
   "metadata": {},
   "source": [
    "<a id=\"1.1\"></a>\n",
    "# 1.1 Operators: `Comparison, Relational Operators`\n",
    "([go to top](#top))"
   ]
  },
  {
   "cell_type": "code",
   "execution_count": 17,
   "id": "2f0d66d2",
   "metadata": {},
   "outputs": [
    {
     "data": {
      "text/plain": [
       "true"
      ]
     },
     "execution_count": 17,
     "metadata": {},
     "output_type": "execute_result"
    }
   ],
   "source": [
    "5 > 2"
   ]
  },
  {
   "cell_type": "code",
   "execution_count": 18,
   "id": "9a99e05b",
   "metadata": {},
   "outputs": [
    {
     "data": {
      "text/plain": [
       "false"
      ]
     },
     "execution_count": 18,
     "metadata": {},
     "output_type": "execute_result"
    }
   ],
   "source": [
    "2 > 4"
   ]
  },
  {
   "cell_type": "code",
   "execution_count": 19,
   "id": "31415317",
   "metadata": {},
   "outputs": [
    {
     "data": {
      "text/plain": [
       "false"
      ]
     },
     "execution_count": 19,
     "metadata": {},
     "output_type": "execute_result"
    }
   ],
   "source": [
    "3 > 3"
   ]
  },
  {
   "cell_type": "code",
   "execution_count": 20,
   "id": "69819049",
   "metadata": {},
   "outputs": [
    {
     "data": {
      "text/plain": [
       "true"
      ]
     },
     "execution_count": 20,
     "metadata": {},
     "output_type": "execute_result"
    }
   ],
   "source": [
    "3 >= 3"
   ]
  },
  {
   "cell_type": "code",
   "execution_count": 21,
   "id": "41736634",
   "metadata": {},
   "outputs": [
    {
     "data": {
      "text/plain": [
       "false"
      ]
     },
     "execution_count": 21,
     "metadata": {},
     "output_type": "execute_result"
    }
   ],
   "source": [
    "3 < 3"
   ]
  },
  {
   "cell_type": "code",
   "execution_count": 22,
   "id": "8a0bb2ed",
   "metadata": {},
   "outputs": [
    {
     "data": {
      "text/plain": [
       "true"
      ]
     },
     "execution_count": 22,
     "metadata": {},
     "output_type": "execute_result"
    }
   ],
   "source": [
    "3 <= 3"
   ]
  },
  {
   "cell_type": "code",
   "execution_count": 23,
   "id": "bd21462f",
   "metadata": {},
   "outputs": [
    {
     "data": {
      "text/plain": [
       "true"
      ]
     },
     "execution_count": 23,
     "metadata": {},
     "output_type": "execute_result"
    }
   ],
   "source": [
    "2 !== 4"
   ]
  },
  {
   "cell_type": "code",
   "execution_count": 24,
   "id": "5eace75f",
   "metadata": {},
   "outputs": [
    {
     "data": {
      "text/plain": [
       "true"
      ]
     },
     "execution_count": 24,
     "metadata": {},
     "output_type": "execute_result"
    }
   ],
   "source": [
    "2 === 2"
   ]
  },
  {
   "cell_type": "code",
   "execution_count": 25,
   "id": "c7114ba9",
   "metadata": {
    "scrolled": true
   },
   "outputs": [
    {
     "data": {
      "text/plain": [
       "false"
      ]
     },
     "execution_count": 25,
     "metadata": {},
     "output_type": "execute_result"
    }
   ],
   "source": [
    "2 === 3"
   ]
  },
  {
   "cell_type": "code",
   "execution_count": 26,
   "id": "47920b04",
   "metadata": {},
   "outputs": [
    {
     "name": "stdout",
     "output_type": "stream",
     "text": [
      "true\n",
      "false\n"
     ]
    }
   ],
   "source": [
    "array = [1, 2,4, 5,6]\n",
    "console.log(2 in array)\n",
    "console.log(9 in array)"
   ]
  },
  {
   "cell_type": "code",
   "execution_count": 27,
   "id": "b9f94439",
   "metadata": {},
   "outputs": [
    {
     "name": "stdout",
     "output_type": "stream",
     "text": [
      "5\n",
      "true\n",
      "true\n",
      "true\n",
      "true\n",
      "true\n",
      "false\n",
      "false\n"
     ]
    }
   ],
   "source": [
    "array = ['one', 'two','three', 'four','five']\n",
    "console.log(array.length)\n",
    "console.log(0 in array)\n",
    "console.log(1 in array)\n",
    "console.log(2 in array)\n",
    "console.log(3 in array)\n",
    "console.log(4 in array)\n",
    "console.log(5 in array)\n",
    "console.log('two' in array)"
   ]
  },
  {
   "cell_type": "code",
   "execution_count": 28,
   "id": "d552e774",
   "metadata": {},
   "outputs": [
    {
     "name": "stdout",
     "output_type": "stream",
     "text": [
      "true\n"
     ]
    }
   ],
   "source": [
    "const car = { make: 'Honda', model: 'Accord', year: 1998 };\n",
    "\n",
    "console.log('make' in car);"
   ]
  },
  {
   "cell_type": "markdown",
   "id": "8355a04e",
   "metadata": {},
   "source": [
    "______"
   ]
  },
  {
   "cell_type": "markdown",
   "id": "67cda72d",
   "metadata": {},
   "source": [
    "<a id=\"1.2\"></a>\n",
    "# 1.2 Operators: `Truthy / Falsy`\n",
    "([go to top](#top))"
   ]
  },
  {
   "cell_type": "code",
   "execution_count": 29,
   "id": "2d56f54e",
   "metadata": {},
   "outputs": [
    {
     "name": "stdout",
     "output_type": "stream",
     "text": [
      "falsy\n"
     ]
    }
   ],
   "source": [
    "if (0) {\n",
    "    console.log('truthy')\n",
    "}else {\n",
    "    console.log('falsy')\n",
    "}"
   ]
  },
  {
   "cell_type": "code",
   "execution_count": 30,
   "id": "6b15046c",
   "metadata": {},
   "outputs": [
    {
     "name": "stdout",
     "output_type": "stream",
     "text": [
      "falsy\n"
     ]
    }
   ],
   "source": [
    "if (undefined) {\n",
    "    console.log('truthy')\n",
    "}else {\n",
    "    console.log('falsy')\n",
    "}"
   ]
  },
  {
   "cell_type": "code",
   "execution_count": 31,
   "id": "5d9bcefc",
   "metadata": {},
   "outputs": [
    {
     "name": "stdout",
     "output_type": "stream",
     "text": [
      "falsy\n"
     ]
    }
   ],
   "source": [
    "if (NaN) {\n",
    "    console.log('truthy')\n",
    "}else {\n",
    "    console.log('falsy')\n",
    "}"
   ]
  },
  {
   "cell_type": "code",
   "execution_count": 32,
   "id": "e935c7b2",
   "metadata": {},
   "outputs": [
    {
     "name": "stdout",
     "output_type": "stream",
     "text": [
      "falsy\n"
     ]
    }
   ],
   "source": [
    "if (null) {\n",
    "    console.log('truthy')\n",
    "}else {\n",
    "    console.log('falsy')\n",
    "}"
   ]
  },
  {
   "cell_type": "code",
   "execution_count": 33,
   "id": "fb78fe84",
   "metadata": {},
   "outputs": [
    {
     "name": "stdout",
     "output_type": "stream",
     "text": [
      "falsy\n"
     ]
    }
   ],
   "source": [
    "if ('') {\n",
    "    console.log('truthy')\n",
    "}else {\n",
    "    console.log('falsy')\n",
    "}"
   ]
  },
  {
   "cell_type": "code",
   "execution_count": 34,
   "id": "fba2297c",
   "metadata": {},
   "outputs": [
    {
     "name": "stdout",
     "output_type": "stream",
     "text": [
      "falsy\n"
     ]
    }
   ],
   "source": [
    "if (``) {\n",
    "    console.log('truthy')\n",
    "}else {\n",
    "    console.log('falsy')\n",
    "}"
   ]
  },
  {
   "cell_type": "code",
   "execution_count": 35,
   "id": "ef0edac1",
   "metadata": {},
   "outputs": [
    {
     "name": "stdout",
     "output_type": "stream",
     "text": [
      "falsy\n"
     ]
    }
   ],
   "source": [
    "if (false) {\n",
    "    console.log('truthy')\n",
    "}else {\n",
    "    console.log('falsy')\n",
    "}"
   ]
  },
  {
   "cell_type": "code",
   "execution_count": 36,
   "id": "7178b7eb",
   "metadata": {},
   "outputs": [
    {
     "name": "stdout",
     "output_type": "stream",
     "text": [
      "truthy\n"
     ]
    }
   ],
   "source": [
    "if ('non-empty-string') {\n",
    "    console.log('truthy')\n",
    "}else {\n",
    "    console.log('falsy')\n",
    "}"
   ]
  },
  {
   "cell_type": "code",
   "execution_count": 37,
   "id": "163c18c1",
   "metadata": {},
   "outputs": [
    {
     "name": "stdout",
     "output_type": "stream",
     "text": [
      "truthy\n"
     ]
    }
   ],
   "source": [
    "if (true) {\n",
    "    console.log('truthy')\n",
    "}else {\n",
    "    console.log('falsy')\n",
    "}"
   ]
  },
  {
   "cell_type": "code",
   "execution_count": 38,
   "id": "c538923b",
   "metadata": {},
   "outputs": [
    {
     "name": "stdout",
     "output_type": "stream",
     "text": [
      "truthy\n"
     ]
    }
   ],
   "source": [
    "if (2) {\n",
    "    console.log('truthy')\n",
    "}else {\n",
    "    console.log('falsy')\n",
    "}"
   ]
  },
  {
   "cell_type": "code",
   "execution_count": 39,
   "id": "17f96d92",
   "metadata": {},
   "outputs": [
    {
     "name": "stdout",
     "output_type": "stream",
     "text": [
      "truthy\n"
     ]
    }
   ],
   "source": [
    "if ({}) {\n",
    "    console.log('truthy')\n",
    "}else {\n",
    "    console.log('falsy')\n",
    "}"
   ]
  },
  {
   "cell_type": "code",
   "execution_count": 40,
   "id": "d8be445e",
   "metadata": {},
   "outputs": [
    {
     "name": "stdout",
     "output_type": "stream",
     "text": [
      "truthy\n"
     ]
    }
   ],
   "source": [
    "if ([]) {\n",
    "    console.log('truthy')\n",
    "}else {\n",
    "    console.log('falsy')\n",
    "}"
   ]
  },
  {
   "cell_type": "code",
   "execution_count": 41,
   "id": "d53786d7",
   "metadata": {},
   "outputs": [
    {
     "name": "stdout",
     "output_type": "stream",
     "text": [
      "truthy\n"
     ]
    }
   ],
   "source": [
    "if (-4) {\n",
    "    console.log('truthy')\n",
    "}else {\n",
    "    console.log('falsy')\n",
    "}"
   ]
  },
  {
   "cell_type": "code",
   "execution_count": 42,
   "id": "79da9499",
   "metadata": {},
   "outputs": [
    {
     "name": "stdout",
     "output_type": "stream",
     "text": [
      "truthy\n"
     ]
    }
   ],
   "source": [
    "if (Infinity) {\n",
    "    console.log('truthy')\n",
    "}else {\n",
    "    console.log('falsy')\n",
    "}"
   ]
  },
  {
   "cell_type": "markdown",
   "id": "14927106",
   "metadata": {},
   "source": [
    "______"
   ]
  },
  {
   "cell_type": "markdown",
   "id": "0f786919",
   "metadata": {},
   "source": [
    "<a id=\"1.3\"></a>\n",
    "# 1.3 Operators: `Assignment Operators`\n",
    "([go to top](#top))"
   ]
  },
  {
   "cell_type": "code",
   "execution_count": 43,
   "id": "40d78ad1",
   "metadata": {},
   "outputs": [
    {
     "name": "stdout",
     "output_type": "stream",
     "text": [
      "2022\n"
     ]
    }
   ],
   "source": [
    "year = 2022\n",
    "console.log(year)"
   ]
  },
  {
   "cell_type": "code",
   "execution_count": 44,
   "id": "6040469f",
   "metadata": {},
   "outputs": [
    {
     "name": "stdout",
     "output_type": "stream",
     "text": [
      "2023\n"
     ]
    }
   ],
   "source": [
    "year += 1\n",
    "console.log(year)"
   ]
  },
  {
   "cell_type": "code",
   "execution_count": 45,
   "id": "fee5b100",
   "metadata": {},
   "outputs": [
    {
     "name": "stdout",
     "output_type": "stream",
     "text": [
      "2022\n"
     ]
    }
   ],
   "source": [
    "year -= 1\n",
    "console.log(year)"
   ]
  },
  {
   "cell_type": "code",
   "execution_count": 46,
   "id": "d9662f05",
   "metadata": {
    "scrolled": true
   },
   "outputs": [
    {
     "name": "stdout",
     "output_type": "stream",
     "text": [
      "1011\n"
     ]
    }
   ],
   "source": [
    "year /= 2\n",
    "console.log(year)"
   ]
  },
  {
   "cell_type": "code",
   "execution_count": 47,
   "id": "09eb3749",
   "metadata": {
    "scrolled": true
   },
   "outputs": [
    {
     "name": "stdout",
     "output_type": "stream",
     "text": [
      "2022\n"
     ]
    }
   ],
   "source": [
    "year *= 2\n",
    "console.log(year)"
   ]
  },
  {
   "cell_type": "code",
   "execution_count": 48,
   "id": "68f54440",
   "metadata": {
    "scrolled": true
   },
   "outputs": [
    {
     "name": "stdout",
     "output_type": "stream",
     "text": [
      "2022\n",
      "2\n"
     ]
    }
   ],
   "source": [
    "console.log(year)\n",
    "year %= 5\n",
    "console.log(year)"
   ]
  },
  {
   "cell_type": "code",
   "execution_count": 49,
   "id": "c81c52c6",
   "metadata": {
    "scrolled": true
   },
   "outputs": [
    {
     "name": "stdout",
     "output_type": "stream",
     "text": [
      "4\n"
     ]
    }
   ],
   "source": [
    "year **= 2\n",
    "console.log(year)"
   ]
  },
  {
   "cell_type": "markdown",
   "id": "a9aee71b",
   "metadata": {},
   "source": [
    "<a id=\"1.4\"></a>\n",
    "# 1.4 Operators: `Logical Operators`\n",
    "([go to top](#top))"
   ]
  },
  {
   "cell_type": "code",
   "execution_count": 50,
   "id": "44cac518",
   "metadata": {
    "scrolled": true
   },
   "outputs": [
    {
     "name": "stdout",
     "output_type": "stream",
     "text": [
      "true\n"
     ]
    }
   ],
   "source": [
    "console.log(true || false)"
   ]
  },
  {
   "cell_type": "code",
   "execution_count": 51,
   "id": "52ecc2a7",
   "metadata": {
    "scrolled": false
   },
   "outputs": [
    {
     "name": "stdout",
     "output_type": "stream",
     "text": [
      "true\n"
     ]
    }
   ],
   "source": [
    "console.log(false || true)"
   ]
  },
  {
   "cell_type": "code",
   "execution_count": 52,
   "id": "2174c6fc",
   "metadata": {
    "scrolled": true
   },
   "outputs": [
    {
     "name": "stdout",
     "output_type": "stream",
     "text": [
      "false\n"
     ]
    }
   ],
   "source": [
    "console.log(true && false)"
   ]
  },
  {
   "cell_type": "code",
   "execution_count": 53,
   "id": "411e73e6",
   "metadata": {
    "scrolled": false
   },
   "outputs": [
    {
     "name": "stdout",
     "output_type": "stream",
     "text": [
      "false\n"
     ]
    }
   ],
   "source": [
    "console.log(false && true)"
   ]
  },
  {
   "cell_type": "code",
   "execution_count": 54,
   "id": "4ba5904e",
   "metadata": {
    "scrolled": false
   },
   "outputs": [
    {
     "name": "stdout",
     "output_type": "stream",
     "text": [
      "false\n"
     ]
    }
   ],
   "source": [
    "console.log(!true || false)"
   ]
  },
  {
   "cell_type": "code",
   "execution_count": 55,
   "id": "a6aee965",
   "metadata": {
    "scrolled": false
   },
   "outputs": [
    {
     "name": "stdout",
     "output_type": "stream",
     "text": [
      "true\n"
     ]
    }
   ],
   "source": [
    "console.log(!false && true)"
   ]
  },
  {
   "cell_type": "code",
   "execution_count": 56,
   "id": "99306ba9",
   "metadata": {},
   "outputs": [
    {
     "data": {
      "text/plain": [
       "true"
      ]
     },
     "execution_count": 56,
     "metadata": {},
     "output_type": "execute_result"
    }
   ],
   "source": [
    "!\"\""
   ]
  },
  {
   "cell_type": "markdown",
   "id": "eba00ed8",
   "metadata": {},
   "source": [
    "_____"
   ]
  },
  {
   "cell_type": "markdown",
   "id": "50008459",
   "metadata": {},
   "source": [
    "<a id=\"2\"></a>\n",
    "# 2 BuiltIns: `Math`\n",
    "([go to top](#top))"
   ]
  },
  {
   "cell_type": "code",
   "execution_count": 57,
   "id": "d67a3704",
   "metadata": {},
   "outputs": [
    {
     "data": {
      "text/plain": [
       "2"
      ]
     },
     "execution_count": 57,
     "metadata": {},
     "output_type": "execute_result"
    }
   ],
   "source": [
    "Math.floor(2.4)"
   ]
  },
  {
   "cell_type": "code",
   "execution_count": 58,
   "id": "2c6bedc3",
   "metadata": {},
   "outputs": [
    {
     "data": {
      "text/plain": [
       "3"
      ]
     },
     "execution_count": 58,
     "metadata": {},
     "output_type": "execute_result"
    }
   ],
   "source": [
    "Math.ceil(2.4)"
   ]
  },
  {
   "cell_type": "code",
   "execution_count": 59,
   "id": "d305c026",
   "metadata": {
    "scrolled": true
   },
   "outputs": [
    {
     "data": {
      "text/plain": [
       "0.38599953337205206"
      ]
     },
     "execution_count": 59,
     "metadata": {},
     "output_type": "execute_result"
    }
   ],
   "source": [
    "Math.random()"
   ]
  },
  {
   "cell_type": "code",
   "execution_count": 60,
   "id": "9ac8a92d",
   "metadata": {
    "scrolled": true
   },
   "outputs": [
    {
     "data": {
      "text/plain": [
       "0.03958924790026419"
      ]
     },
     "execution_count": 60,
     "metadata": {},
     "output_type": "execute_result"
    }
   ],
   "source": [
    "Math.random()"
   ]
  },
  {
   "cell_type": "code",
   "execution_count": 61,
   "id": "f30dcec3",
   "metadata": {},
   "outputs": [
    {
     "data": {
      "text/plain": [
       "2"
      ]
     },
     "execution_count": 61,
     "metadata": {},
     "output_type": "execute_result"
    }
   ],
   "source": [
    "Math.floor(Math.random() * 5)"
   ]
  },
  {
   "cell_type": "code",
   "execution_count": 62,
   "id": "2b245c08",
   "metadata": {},
   "outputs": [
    {
     "data": {
      "text/plain": [
       "4"
      ]
     },
     "execution_count": 62,
     "metadata": {},
     "output_type": "execute_result"
    }
   ],
   "source": [
    "Math.floor(Math.random() * 5)"
   ]
  },
  {
   "cell_type": "code",
   "execution_count": 63,
   "id": "7c08898e",
   "metadata": {},
   "outputs": [
    {
     "data": {
      "text/plain": [
       "16"
      ]
     },
     "execution_count": 63,
     "metadata": {},
     "output_type": "execute_result"
    }
   ],
   "source": [
    "Math.pow(2, 4)"
   ]
  },
  {
   "cell_type": "code",
   "execution_count": 64,
   "id": "e143c2fc",
   "metadata": {},
   "outputs": [
    {
     "name": "stdout",
     "output_type": "stream",
     "text": [
      "3\n"
     ]
    }
   ],
   "source": [
    "console.log(Math.max(1, 3, 2));"
   ]
  },
  {
   "cell_type": "code",
   "execution_count": 65,
   "id": "b74da640",
   "metadata": {},
   "outputs": [
    {
     "name": "stdout",
     "output_type": "stream",
     "text": [
      "1\n"
     ]
    }
   ],
   "source": [
    "console.log(Math.min(2, 3, 1));"
   ]
  },
  {
   "cell_type": "code",
   "execution_count": null,
   "id": "583383cf",
   "metadata": {},
   "outputs": [],
   "source": []
  },
  {
   "cell_type": "markdown",
   "id": "f5396fd8",
   "metadata": {},
   "source": [
    "_______________"
   ]
  },
  {
   "cell_type": "markdown",
   "id": "f2ea09ac",
   "metadata": {},
   "source": [
    "```\n",
    "document.getElementById('myImage');\n",
    "\n",
    "const elem = document.getElementById('logo');\n",
    "elem.style.color = 'yellow';\n",
    "\n",
    "document.body.innerHTML = 'The cat loves the dog.';\n",
    "document.body.innerHTML = '<h2>This is a heading</h2>'; \n",
    "\n",
    "document.querySelector('h1').innerHTML = 'Most popular Harry Potter characters';\n",
    "document.getElementById('fourth').innerHTML = 'Professor Snape';\n",
    "document.getElementsByClassName('slytherin')[0].innerHTML = 'Salazar Slytherin';\n",
    "document.getElementsByTagName('li')[0].innerHTML = 'Dobby';\n",
    "\n",
    "let blueElement = document.querySelector('.blue');\n",
    "blueElement.style.backgroundColor = 'blue';\n",
    "\n",
    "document.querySelector('.blue').style.fontFamily = 'Roboto';\n",
    "\n",
    "let parentElement = document.getElementById('must-have').parentNode; // returns <ul> element\n",
    "let childElements = document.getElementById('groceries').children; // returns an array of <li> elements\n",
    "\n",
    "// let first = document.body.children\n",
    "let first = document.querySelector('body').children\n",
    "first[0].innerHTML = 'BROWN BEARS ARE AWESOME!'\n",
    "first[0].parentNode.style.backgroundColor = 'beige'\n",
    "\n",
    "let paragraph = document.createElement('p');\n",
    "paragraph.id = 'info'; \n",
    "paragraph.innerHTML = 'The text inside the paragraph';\n",
    "document.body.appendChild(paragraph);\n",
    "\n",
    "let paragraph = document.querySelector('p');\n",
    "document.body.removeChild(paragraph);\n",
    "document.getElementById('sign').hidden = true;\n",
    "\n",
    "let element = document.querySelector('button');\n",
    "element.onclick = function() { \n",
    "  element.style.backgroundColor = 'blue' \n",
    "};\n",
    "\n",
    "let element = document.querySelector('button');\n",
    "function turnBlue() {\n",
    "   element.style.backgroundColor = 'blue';\n",
    "}\n",
    "element.onclick = turnBlue;\n",
    "\n",
    "\n",
    "let element = document.querySelector('button');\n",
    "function turnButtonRed(){\n",
    "  // Add code to turn button red\n",
    "  element.style.backgroundColor = 'red';\n",
    "  element.style.color = 'white';\n",
    "  element.innerHTML = 'Red Button';\n",
    "}\n",
    "// element.addEventlistener('click', turnButtonRed)\n",
    "element.onclick = turnButtonRed\n",
    "\n",
    "\n",
    "let eventTarget = document.getElementById('targetElement');\n",
    "eventTarget.addEventListener('click', function() {\n",
    "  // this block of code will run when click event happens on eventTarget element\n",
    "});\n",
    "```"
   ]
  },
  {
   "cell_type": "markdown",
   "id": "3e9060a2",
   "metadata": {},
   "source": [
    "# Average"
   ]
  },
  {
   "cell_type": "code",
   "execution_count": 66,
   "id": "2e265054",
   "metadata": {},
   "outputs": [
    {
     "name": "stdout",
     "output_type": "stream",
     "text": [
      "5\n"
     ]
    }
   ],
   "source": [
    "arr = [1,2,3,4,5,6,7,8,9]\n",
    "let sum = arr.reduce( (a, b) => a + b, 0)\n",
    "let average = sum / arr.length\n",
    "console.log(average)"
   ]
  },
  {
   "cell_type": "code",
   "execution_count": null,
   "id": "ebaac7a8",
   "metadata": {},
   "outputs": [],
   "source": []
  },
  {
   "cell_type": "code",
   "execution_count": null,
   "id": "86f169ad",
   "metadata": {},
   "outputs": [],
   "source": []
  }
 ],
 "metadata": {
  "kernelspec": {
   "display_name": "JavaScript (Node.js)",
   "language": "javascript",
   "name": "javascript"
  },
  "language_info": {
   "file_extension": ".js",
   "mimetype": "application/javascript",
   "name": "javascript",
   "version": "18.2.0"
  }
 },
 "nbformat": 4,
 "nbformat_minor": 5
}
