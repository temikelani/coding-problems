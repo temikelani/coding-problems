{
 "cells": [
  {
   "cell_type": "markdown",
   "metadata": {},
   "source": [
    "# Problem: "
   ]
  },
  {
   "cell_type": "markdown",
   "metadata": {
    "scrolled": true
   },
   "source": [
    "![](./images/13.png)"
   ]
  },
  {
   "cell_type": "markdown",
   "metadata": {},
   "source": [
    "### Link / Source"
   ]
  },
  {
   "cell_type": "markdown",
   "metadata": {},
   "source": [
    "Leetcode: https://leetcode.com/problems/roman-to-integer/"
   ]
  },
  {
   "cell_type": "markdown",
   "metadata": {},
   "source": [
    "----"
   ]
  },
  {
   "cell_type": "markdown",
   "metadata": {},
   "source": [
    "# Pseudo-code"
   ]
  },
  {
   "cell_type": "markdown",
   "metadata": {},
   "source": [
    "```\n",
    "store roman nuneral values as vars or as dictionary\n",
    "spilt the string to individual characters\n",
    "for each char check if the next char - IS V,X,L,C, OR M\n",
    "    IF it is and (char, next-char) = (IV, IX, XL, XC, CD OR CM)\n",
    "```\n",
    "--------------------------------------\n",
    "```\n",
    "n = lenght of string\n",
    "store roman nuneral values as dictionary\n",
    "for i in range(n):\n",
    "    # if i is the last index or the dict value of s[i] > dict value of s[i+1]\n",
    "    # return dict value of s[i] \n",
    "    # else then subtract the dict value of s[i]\n",
    "\n",
    "\n",
    "return rt      \n",
    "```"
   ]
  },
  {
   "cell_type": "markdown",
   "metadata": {},
   "source": [
    "----"
   ]
  },
  {
   "cell_type": "markdown",
   "metadata": {},
   "source": [
    "# Solution 1"
   ]
  },
  {
   "cell_type": "code",
   "execution_count": 202,
   "metadata": {},
   "outputs": [],
   "source": [
    "class Solution:\n",
    "    def romanToInt(self, s: str) -> int:\n",
    "        numerals = {\n",
    "            \"I\": 1,\n",
    "            \"V\": 5,\n",
    "            \"X\": 10,\n",
    "            \"L\": 50,\n",
    "            \"C\": 100,\n",
    "            \"D\": 500,\n",
    "            \"M\": 1000,\n",
    "            \"IV\": 4,\n",
    "            \"IX\": 9,\n",
    "            \"XL\": 40,\n",
    "            \"XC\": 90,\n",
    "            \"CD\": 400,\n",
    "            \"CM\": 900\n",
    "        }\n",
    "        \n",
    "        count = 0\n",
    "        \n",
    "        split_string = [s[i] for i in range(0,len(s))] #string to list\n",
    "        \n",
    "        for i in range (0, len(split_string)):\n",
    "            char = split_string[i]\n",
    "            next_char = [split_string[i+1] if i+1 < len(split_string) else 'Z'][0]\n",
    "            combo = char + next_char\n",
    "            \n",
    "            if combo in numerals:\n",
    "                count += numerals[combo]\n",
    "                split_string.pop(i+1) #remove next_char from the list\n",
    "            else:\n",
    "                count += numerals[char]\n",
    "            if (i == len(split_string) - 1):\n",
    "                break #if the list have been parsed ()\n",
    "        return count\n",
    "                "
   ]
  },
  {
   "cell_type": "code",
   "execution_count": 203,
   "metadata": {
    "scrolled": true
   },
   "outputs": [
    {
     "data": {
      "text/plain": [
       "3"
      ]
     },
     "execution_count": 203,
     "metadata": {},
     "output_type": "execute_result"
    }
   ],
   "source": [
    "s = \"III\"\n",
    "test = Solution()\n",
    "test.romanToInt(s)"
   ]
  },
  {
   "cell_type": "code",
   "execution_count": 204,
   "metadata": {},
   "outputs": [
    {
     "data": {
      "text/plain": [
       "1994"
      ]
     },
     "execution_count": 204,
     "metadata": {},
     "output_type": "execute_result"
    }
   ],
   "source": [
    "s = \"MCMXCIV\"\n",
    "test = Solution()\n",
    "test.romanToInt(s)"
   ]
  },
  {
   "cell_type": "code",
   "execution_count": 205,
   "metadata": {},
   "outputs": [
    {
     "data": {
      "text/plain": [
       "1996"
      ]
     },
     "execution_count": 205,
     "metadata": {},
     "output_type": "execute_result"
    }
   ],
   "source": [
    "s = \"MCMXCVI\"\n",
    "test = Solution()\n",
    "test.romanToInt(s)"
   ]
  },
  {
   "cell_type": "code",
   "execution_count": 206,
   "metadata": {},
   "outputs": [
    {
     "data": {
      "text/plain": [
       "1996"
      ]
     },
     "execution_count": 206,
     "metadata": {},
     "output_type": "execute_result"
    }
   ],
   "source": [
    "s = \"MCMXCVI\"\n",
    "test = Solution()\n",
    "test.romanToInt(s)"
   ]
  },
  {
   "cell_type": "markdown",
   "metadata": {},
   "source": [
    "----"
   ]
  },
  {
   "cell_type": "markdown",
   "metadata": {},
   "source": [
    "# Solution 2"
   ]
  },
  {
   "cell_type": "code",
   "execution_count": 213,
   "metadata": {},
   "outputs": [],
   "source": [
    "class Solution:\n",
    "    def romanToInt(self, s: str) -> int:\n",
    "        numerals = {\n",
    "            \"I\": 1,\n",
    "            \"V\": 5,\n",
    "            \"X\": 10,\n",
    "            \"L\": 50,\n",
    "            \"C\": 100,\n",
    "            \"D\": 500,\n",
    "            \"M\": 1000,\n",
    "            \"IV\": 4,\n",
    "            \"IX\": 9,\n",
    "            \"XL\": 40,\n",
    "            \"XC\": 90,\n",
    "            \"CD\": 400,\n",
    "            \"CM\": 900\n",
    "        }\n",
    "        \n",
    "        count = 0\n",
    "        \n",
    "        for i in range (0, len(s)): \n",
    "            char = s[i]\n",
    "            \n",
    "            next_char = next_char = [s[i+1] if i+1 < len(s) else 'I'][0]            \n",
    "            if numerals[next_char] > numerals[char]:\n",
    "                count -= numerals[char]\n",
    "            else:\n",
    "                count += numerals[char]\n",
    "        return count\n",
    "                "
   ]
  },
  {
   "cell_type": "code",
   "execution_count": 214,
   "metadata": {
    "scrolled": true
   },
   "outputs": [
    {
     "data": {
      "text/plain": [
       "3"
      ]
     },
     "execution_count": 214,
     "metadata": {},
     "output_type": "execute_result"
    }
   ],
   "source": [
    "s = \"III\"\n",
    "test = Solution()\n",
    "test.romanToInt(s)"
   ]
  },
  {
   "cell_type": "code",
   "execution_count": 215,
   "metadata": {
    "scrolled": false
   },
   "outputs": [
    {
     "data": {
      "text/plain": [
       "1994"
      ]
     },
     "execution_count": 215,
     "metadata": {},
     "output_type": "execute_result"
    }
   ],
   "source": [
    "s = \"MCMXCIV\"\n",
    "test = Solution()\n",
    "test.romanToInt(s)"
   ]
  },
  {
   "cell_type": "code",
   "execution_count": 216,
   "metadata": {},
   "outputs": [
    {
     "data": {
      "text/plain": [
       "1996"
      ]
     },
     "execution_count": 216,
     "metadata": {},
     "output_type": "execute_result"
    }
   ],
   "source": [
    "s = \"MCMXCVI\"\n",
    "test = Solution()\n",
    "test.romanToInt(s)"
   ]
  },
  {
   "cell_type": "markdown",
   "metadata": {},
   "source": [
    "----"
   ]
  },
  {
   "cell_type": "markdown",
   "metadata": {},
   "source": [
    "# Taking it further\n",
    "link: https://leetcode.com/problems/roman-to-integer/discuss/2183162/Neat-Python-solution-(IMHO)"
   ]
  },
  {
   "cell_type": "code",
   "execution_count": 161,
   "metadata": {},
   "outputs": [],
   "source": [
    "class Solution:\n",
    "    def romanToInt(self, s: str) -> int:\n",
    "        d = {\"I\": 1, \n",
    "             \"V\": 5, \n",
    "             \"X\": 10, \n",
    "             \"L\": 50, \n",
    "             \"C\": 100,\n",
    "             \"D\": 500, \n",
    "             \"M\": 1000, \n",
    "             \"IV\": -2, \n",
    "             \"IX\": -2, \n",
    "             \"XL\": -20, \n",
    "             \"XC\": -20, \n",
    "             \"CD\": -200, \n",
    "             \"CM\": -200\n",
    "        }\n",
    "        \n",
    "        val = 0\n",
    "        for i in d.keys():\n",
    "            val += s.count(i) * d[i]\n",
    "        return val         "
   ]
  },
  {
   "cell_type": "code",
   "execution_count": 162,
   "metadata": {},
   "outputs": [],
   "source": [
    "#roman CM = 900\n",
    "#roman C + M = 1100\n",
    "#d['CM'} = -200"
   ]
  },
  {
   "cell_type": "code",
   "execution_count": 163,
   "metadata": {},
   "outputs": [
    {
     "data": {
      "text/plain": [
       "1996"
      ]
     },
     "execution_count": 163,
     "metadata": {},
     "output_type": "execute_result"
    }
   ],
   "source": [
    "s = \"MCMXCVI\"\n",
    "test = Solution()\n",
    "test.romanToInt(s)"
   ]
  },
  {
   "cell_type": "code",
   "execution_count": 178,
   "metadata": {},
   "outputs": [
    {
     "data": {
      "text/plain": [
       "'I'"
      ]
     },
     "execution_count": 178,
     "metadata": {},
     "output_type": "execute_result"
    }
   ],
   "source": [
    "s[6]"
   ]
  },
  {
   "cell_type": "markdown",
   "metadata": {},
   "source": [
    "----"
   ]
  }
 ],
 "metadata": {
  "kernelspec": {
   "display_name": "Python 3 (ipykernel)",
   "language": "python",
   "name": "python3"
  },
  "language_info": {
   "codemirror_mode": {
    "name": "ipython",
    "version": 3
   },
   "file_extension": ".py",
   "mimetype": "text/x-python",
   "name": "python",
   "nbconvert_exporter": "python",
   "pygments_lexer": "ipython3",
   "version": "3.9.13"
  }
 },
 "nbformat": 4,
 "nbformat_minor": 4
}
