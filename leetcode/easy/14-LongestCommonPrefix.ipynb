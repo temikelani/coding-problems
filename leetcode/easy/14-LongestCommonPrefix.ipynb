{
 "cells": [
  {
   "cell_type": "markdown",
   "metadata": {},
   "source": [
    "# Problem: "
   ]
  },
  {
   "cell_type": "markdown",
   "metadata": {
    "scrolled": true
   },
   "source": [
    "![](./images/14.png)"
   ]
  },
  {
   "cell_type": "markdown",
   "metadata": {},
   "source": [
    "### Link / Source"
   ]
  },
  {
   "cell_type": "markdown",
   "metadata": {},
   "source": [
    "Leetcode: https://leetcode.com/problems/longest-common-prefix/"
   ]
  },
  {
   "cell_type": "markdown",
   "metadata": {},
   "source": [
    "----"
   ]
  },
  {
   "cell_type": "markdown",
   "metadata": {},
   "source": [
    "# Pseudo-code"
   ]
  },
  {
   "cell_type": "markdown",
   "metadata": {},
   "source": [
    "the longest common prefix is the common prefix between the shorted and longest string in a list of string with at least one common prefix\n",
    "\n",
    "find the longest nd shortest strings\n",
    "  for the lenght of the shortest string\n",
    "    when the letters dont mathc anymore return the lettera they have in common\n",
    "  \n",
    "  return \"\" for anything else or return the shortest string "
   ]
  },
  {
   "cell_type": "markdown",
   "metadata": {},
   "source": [
    "----"
   ]
  },
  {
   "cell_type": "markdown",
   "metadata": {},
   "source": [
    "# Solution 1"
   ]
  },
  {
   "cell_type": "code",
   "execution_count": 3,
   "metadata": {},
   "outputs": [],
   "source": [
    "class Solution:\n",
    "  def longestCommonPrefix(self, strs: list[str]) -> str:\n",
    "    shortest = min(strs)\n",
    "    longest = max(strs)\n",
    "\n",
    "    for i in range(len(shortest)):\n",
    "      if shortest[i] != longest[i]:\n",
    "        return shortest[:i]\n",
    "    \n",
    "    return shortest if shortest else \"\""
   ]
  },
  {
   "cell_type": "code",
   "execution_count": 4,
   "metadata": {},
   "outputs": [
    {
     "data": {
      "text/plain": [
       "'aa'"
      ]
     },
     "execution_count": 4,
     "metadata": {},
     "output_type": "execute_result"
    }
   ],
   "source": [
    "\n",
    "strs = [\"aacc\",\"aa\",\"aa\",\"aa\",\"aaca\"]\n",
    "sol = Solution()\n",
    "sol.longestCommonPrefix(strs)"
   ]
  },
  {
   "cell_type": "code",
   "execution_count": 5,
   "metadata": {},
   "outputs": [
    {
     "data": {
      "text/plain": [
       "'a'"
      ]
     },
     "execution_count": 5,
     "metadata": {},
     "output_type": "execute_result"
    }
   ],
   "source": [
    "\n",
    "strs = [\"ab\", \"a\", \"ab\"]\n",
    "sol = Solution()\n",
    "sol.longestCommonPrefix(strs)"
   ]
  },
  {
   "cell_type": "code",
   "execution_count": 6,
   "metadata": {},
   "outputs": [
    {
     "data": {
      "text/plain": [
       "'a'"
      ]
     },
     "execution_count": 6,
     "metadata": {},
     "output_type": "execute_result"
    }
   ],
   "source": [
    "\n",
    "strs = [\"ab\", \"a\", \"ab\", \"abcd\"]\n",
    "sol = Solution()\n",
    "sol.longestCommonPrefix(strs)"
   ]
  },
  {
   "cell_type": "code",
   "execution_count": 7,
   "metadata": {},
   "outputs": [
    {
     "data": {
      "text/plain": [
       "'fl'"
      ]
     },
     "execution_count": 7,
     "metadata": {},
     "output_type": "execute_result"
    }
   ],
   "source": [
    "strs = [\"flower\",\"flow\",\"flight\", \"flo\", \"flighting\"]\n",
    "sol = Solution()\n",
    "sol.longestCommonPrefix(strs)"
   ]
  },
  {
   "cell_type": "code",
   "execution_count": 8,
   "metadata": {},
   "outputs": [
    {
     "data": {
      "text/plain": [
       "'flower'"
      ]
     },
     "execution_count": 8,
     "metadata": {},
     "output_type": "execute_result"
    }
   ],
   "source": [
    "strs = [\"flower\"]\n",
    "sol = Solution()\n",
    "sol.longestCommonPrefix(strs)"
   ]
  },
  {
   "cell_type": "code",
   "execution_count": 9,
   "metadata": {},
   "outputs": [
    {
     "data": {
      "text/plain": [
       "''"
      ]
     },
     "execution_count": 9,
     "metadata": {},
     "output_type": "execute_result"
    }
   ],
   "source": [
    "strs = [\"\",\"\"]\n",
    "sol = Solution()\n",
    "sol.longestCommonPrefix(strs)"
   ]
  },
  {
   "cell_type": "code",
   "execution_count": 10,
   "metadata": {},
   "outputs": [
    {
     "data": {
      "text/plain": [
       "''"
      ]
     },
     "execution_count": 10,
     "metadata": {},
     "output_type": "execute_result"
    }
   ],
   "source": [
    "strs = [\"\",\"\"]\n",
    "sol = Solution()\n",
    "sol.longestCommonPrefix(strs)"
   ]
  },
  {
   "cell_type": "code",
   "execution_count": 11,
   "metadata": {},
   "outputs": [
    {
     "data": {
      "text/plain": [
       "''"
      ]
     },
     "execution_count": 11,
     "metadata": {},
     "output_type": "execute_result"
    }
   ],
   "source": [
    "strs = [\"\",\"b\"]\n",
    "sol = Solution()\n",
    "sol.longestCommonPrefix(strs)"
   ]
  },
  {
   "cell_type": "code",
   "execution_count": 12,
   "metadata": {},
   "outputs": [
    {
     "data": {
      "text/plain": [
       "''"
      ]
     },
     "execution_count": 12,
     "metadata": {},
     "output_type": "execute_result"
    }
   ],
   "source": [
    "strs = [\"b\", \"\"]\n",
    "sol = Solution()\n",
    "sol.longestCommonPrefix(strs)"
   ]
  },
  {
   "cell_type": "code",
   "execution_count": 13,
   "metadata": {},
   "outputs": [
    {
     "data": {
      "text/plain": [
       "''"
      ]
     },
     "execution_count": 13,
     "metadata": {},
     "output_type": "execute_result"
    }
   ],
   "source": [
    "strs = [\"\"]\n",
    "sol = Solution()\n",
    "sol.longestCommonPrefix(strs)"
   ]
  },
  {
   "cell_type": "code",
   "execution_count": 14,
   "metadata": {},
   "outputs": [
    {
     "data": {
      "text/plain": [
       "'>'"
      ]
     },
     "execution_count": 14,
     "metadata": {},
     "output_type": "execute_result"
    }
   ],
   "source": [
    "strs = [\">\"]\n",
    "sol = Solution()\n",
    "sol.longestCommonPrefix(strs)"
   ]
  },
  {
   "cell_type": "code",
   "execution_count": 15,
   "metadata": {},
   "outputs": [
    {
     "data": {
      "text/plain": [
       "'a'"
      ]
     },
     "execution_count": 15,
     "metadata": {},
     "output_type": "execute_result"
    }
   ],
   "source": [
    "strs = [\"a\"]\n",
    "sol = Solution()\n",
    "sol.longestCommonPrefix(strs)"
   ]
  },
  {
   "cell_type": "code",
   "execution_count": 18,
   "metadata": {},
   "outputs": [
    {
     "data": {
      "text/plain": [
       "''"
      ]
     },
     "execution_count": 18,
     "metadata": {},
     "output_type": "execute_result"
    }
   ],
   "source": [
    "strs = [\"dog\",\"racecar\",\"car\"]\n",
    "sol = Solution()\n",
    "sol.longestCommonPrefix(strs)"
   ]
  },
  {
   "cell_type": "code",
   "execution_count": 19,
   "metadata": {},
   "outputs": [
    {
     "data": {
      "text/plain": [
       "''"
      ]
     },
     "execution_count": 19,
     "metadata": {},
     "output_type": "execute_result"
    }
   ],
   "source": [
    "strs = [\"flower\",\"flow\",\"glorious\", \"glory\", \"glorify\", \"flowering\", \"dog\", \"racecar\", \"flight\"]\n",
    "sol = Solution()\n",
    "sol.longestCommonPrefix(strs)"
   ]
  },
  {
   "cell_type": "markdown",
   "metadata": {},
   "source": [
    "----"
   ]
  },
  {
   "cell_type": "markdown",
   "metadata": {},
   "source": [
    "# Solution 2\n",
    "- i misundestood the question, all items in teh list have to have a the prefix or none do\n",
    "- this solution find the longes common prefix regardless"
   ]
  },
  {
   "cell_type": "markdown",
   "metadata": {},
   "source": []
  },
  {
   "cell_type": "code",
   "execution_count": 20,
   "metadata": {},
   "outputs": [],
   "source": [
    "class Solution:\n",
    "    def longestCommonPrefix(self, strs: list[str]) -> str:\n",
    "        prefixes = {}\n",
    "        for word in strs:\n",
    "          # get each word in strs and find the length\n",
    "          word_length = len(word)\n",
    "\n",
    "          for word_index in range(1, word_length):\n",
    "            for next_word in strs:\n",
    "              if word != next_word:\n",
    "                if word[:word_index] in next_word and word[0] == next_word[0]:\n",
    "                  # for each work in strs, if the current slice/prefix is in any other word in strs\n",
    "                  # add the slice to prefixes and make its value count\n",
    "                  prefixes[word[:word_index]] = len(word[:word_index])\n",
    "        # return the prefix with the greated length\n",
    "        if len(prefixes) == 0:\n",
    "          return \"\"\n",
    "        else:\n",
    "          for key, value in prefixes.items():\n",
    "            if prefixes[key] == max(prefixes.values()):\n",
    "              return key"
   ]
  },
  {
   "cell_type": "code",
   "execution_count": 25,
   "metadata": {},
   "outputs": [
    {
     "data": {
      "text/plain": [
       "'aaca'"
      ]
     },
     "execution_count": 25,
     "metadata": {},
     "output_type": "execute_result"
    }
   ],
   "source": [
    "\n",
    "strs = [\"aacc\",\"aa\",\"aa\",\"aa\",\"aaca\", \"aacaahskfhs\"]\n",
    "sol = Solution()\n",
    "sol.longestCommonPrefix(strs)"
   ]
  },
  {
   "cell_type": "code",
   "execution_count": 21,
   "metadata": {},
   "outputs": [
    {
     "data": {
      "text/plain": [
       "'flow'"
      ]
     },
     "execution_count": 21,
     "metadata": {},
     "output_type": "execute_result"
    }
   ],
   "source": [
    "strs = [\"flower\",\"flow\",\"flight\"]\n",
    "sol = Solution()\n",
    "sol.longestCommonPrefix(strs)"
   ]
  },
  {
   "cell_type": "code",
   "execution_count": 22,
   "metadata": {},
   "outputs": [
    {
     "data": {
      "text/plain": [
       "''"
      ]
     },
     "execution_count": 22,
     "metadata": {},
     "output_type": "execute_result"
    }
   ],
   "source": [
    "strs = [\"dog\",\"racecar\",\"car\"]\n",
    "sol = Solution()\n",
    "sol.longestCommonPrefix(strs)"
   ]
  },
  {
   "cell_type": "code",
   "execution_count": 23,
   "metadata": {},
   "outputs": [
    {
     "data": {
      "text/plain": [
       "'flower'"
      ]
     },
     "execution_count": 23,
     "metadata": {},
     "output_type": "execute_result"
    }
   ],
   "source": [
    "strs = [\"flower\",\"flow\",\"glorious\", \"glory\", \"glorify\", \"flowering\", \"dog\", \"racecar\", \"flight\"]\n",
    "sol = Solution()\n",
    "sol.longestCommonPrefix(strs)"
   ]
  },
  {
   "cell_type": "markdown",
   "metadata": {},
   "source": [
    "----"
   ]
  },
  {
   "cell_type": "markdown",
   "metadata": {},
   "source": [
    "# Taking it further\n",
    "\n",
    "- https://leetcode.com/problems/longest-common-prefix/discuss/2189248/Python-solution\n",
    "- https://leetcode.com/problems/longest-common-prefix/discuss/2204493/Sorting-Based-Easy-Solution"
   ]
  },
  {
   "cell_type": "code",
   "execution_count": 18,
   "metadata": {},
   "outputs": [],
   "source": [
    "class Solution:\n",
    "    def longestCommonPrefix(self, strs: list[str]) -> str:\n",
    "        chars = list()\n",
    "        prefix = list()\n",
    "        shortest = len(min(strs, key=len))\n",
    "\n",
    "        i = 0\n",
    "\n",
    "        while i < shortest:\n",
    "            for s in strs:\n",
    "                chars.append(s[i])\n",
    "            if len(set(chars)) == 1:\n",
    "                prefix.append(chars[0])\n",
    "                chars.clear()\n",
    "            i += 1\n",
    "\n",
    "        return \"\".join(prefix)"
   ]
  },
  {
   "cell_type": "code",
   "execution_count": null,
   "metadata": {},
   "outputs": [],
   "source": [
    "class Solution:\n",
    "    def longestCommonPrefix(self, strs: List[str]) -> str:\n",
    "        strs.sort()\n",
    "        minimum = min(len(strs[0]),len(strs[len(strs)-1]))\n",
    "        res=\"\"\n",
    "        for i in range(minimum):\n",
    "            if strs[0][i]==strs[len(strs)-1][i]:\n",
    "                res+=strs[0][i]\n",
    "            else:\n",
    "                return res\n",
    "        return res\n",
    "            \n",
    "        "
   ]
  },
  {
   "cell_type": "code",
   "execution_count": 19,
   "metadata": {},
   "outputs": [
    {
     "data": {
      "text/plain": [
       "'a'"
      ]
     },
     "execution_count": 19,
     "metadata": {},
     "output_type": "execute_result"
    }
   ],
   "source": [
    "\n",
    "strs = [\"ab\", \"a\"]\n",
    "sol = Solution()\n",
    "sol.longestCommonPrefix(strs)"
   ]
  },
  {
   "cell_type": "code",
   "execution_count": 20,
   "metadata": {},
   "outputs": [
    {
     "data": {
      "text/plain": [
       "''"
      ]
     },
     "execution_count": 20,
     "metadata": {},
     "output_type": "execute_result"
    }
   ],
   "source": [
    "strs = [\"\"]\n",
    "sol = Solution()\n",
    "sol.longestCommonPrefix(strs)"
   ]
  },
  {
   "cell_type": "code",
   "execution_count": 21,
   "metadata": {},
   "outputs": [
    {
     "data": {
      "text/plain": [
       "''"
      ]
     },
     "execution_count": 21,
     "metadata": {},
     "output_type": "execute_result"
    }
   ],
   "source": [
    "strs = [\"\",\"\"]\n",
    "sol = Solution()\n",
    "sol.longestCommonPrefix(strs)"
   ]
  },
  {
   "cell_type": "code",
   "execution_count": 22,
   "metadata": {},
   "outputs": [
    {
     "data": {
      "text/plain": [
       "''"
      ]
     },
     "execution_count": 22,
     "metadata": {},
     "output_type": "execute_result"
    }
   ],
   "source": [
    "strs = [\"\",\"\"]\n",
    "sol = Solution()\n",
    "sol.longestCommonPrefix(strs)"
   ]
  },
  {
   "cell_type": "code",
   "execution_count": 23,
   "metadata": {},
   "outputs": [
    {
     "data": {
      "text/plain": [
       "'a'"
      ]
     },
     "execution_count": 23,
     "metadata": {},
     "output_type": "execute_result"
    }
   ],
   "source": [
    "strs = [\"a\"]\n",
    "sol = Solution()\n",
    "sol.longestCommonPrefix(strs)"
   ]
  },
  {
   "cell_type": "code",
   "execution_count": 24,
   "metadata": {},
   "outputs": [
    {
     "data": {
      "text/plain": [
       "'fl'"
      ]
     },
     "execution_count": 24,
     "metadata": {},
     "output_type": "execute_result"
    }
   ],
   "source": [
    "strs = [\"flower\",\"flow\",\"flight\"]\n",
    "sol = Solution()\n",
    "sol.longestCommonPrefix(strs)"
   ]
  },
  {
   "cell_type": "code",
   "execution_count": 25,
   "metadata": {},
   "outputs": [
    {
     "data": {
      "text/plain": [
       "''"
      ]
     },
     "execution_count": 25,
     "metadata": {},
     "output_type": "execute_result"
    }
   ],
   "source": [
    "strs = [\"dog\",\"racecar\",\"car\"]\n",
    "sol = Solution()\n",
    "sol.longestCommonPrefix(strs)"
   ]
  },
  {
   "cell_type": "code",
   "execution_count": null,
   "metadata": {},
   "outputs": [
    {
     "name": "stdout",
     "output_type": "stream",
     "text": [
      "dog racecar\n"
     ]
    },
    {
     "data": {
      "text/plain": [
       "''"
      ]
     },
     "execution_count": 121,
     "metadata": {},
     "output_type": "execute_result"
    }
   ],
   "source": [
    "strs = [\"flower\",\"flow\",\"glorious\", \"glory\", \"glorify\", \"flowering\", \"dog\", \"racecar\", \"flight\"]\n",
    "sol = Solution()\n",
    "sol.longestCommonPrefix(strs)"
   ]
  },
  {
   "cell_type": "markdown",
   "metadata": {},
   "source": [
    "----"
   ]
  },
  {
   "cell_type": "markdown",
   "metadata": {},
   "source": []
  }
 ],
 "metadata": {
  "kernelspec": {
   "display_name": "Python 3.10.2 64-bit",
   "language": "python",
   "name": "python3"
  },
  "language_info": {
   "codemirror_mode": {
    "name": "ipython",
    "version": 3
   },
   "file_extension": ".py",
   "mimetype": "text/x-python",
   "name": "python",
   "nbconvert_exporter": "python",
   "pygments_lexer": "ipython3",
   "version": "3.9.13"
  },
  "vscode": {
   "interpreter": {
    "hash": "aee8b7b246df8f9039afb4144a1f6fd8d2ca17a180786b69acc140d282b71a49"
   }
  }
 },
 "nbformat": 4,
 "nbformat_minor": 4
}
