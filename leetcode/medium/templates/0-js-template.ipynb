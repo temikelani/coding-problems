{
 "cells": [
  {
   "cell_type": "markdown",
   "id": "9980092b",
   "metadata": {},
   "source": [
    "# Tags"
   ]
  },
  {
   "cell_type": "code",
   "execution_count": 1,
   "id": "b781de90",
   "metadata": {},
   "outputs": [],
   "source": [
    "#tag goes here"
   ]
  },
  {
   "cell_type": "markdown",
   "id": "249b1b9a",
   "metadata": {},
   "source": [
    "----"
   ]
  },
  {
   "cell_type": "markdown",
   "id": "321c9e82",
   "metadata": {},
   "source": [
    "# Problem: "
   ]
  },
  {
   "cell_type": "code",
   "execution_count": 1,
   "id": "2ce91fce",
   "metadata": {
    "scrolled": true
   },
   "outputs": [
    {
     "name": "stdout",
     "output_type": "stream",
     "text": [
      "zsh:1: unknown file attribute: i\r\n"
     ]
    }
   ],
   "source": [
    "![](./images/)"
   ]
  },
  {
   "cell_type": "markdown",
   "id": "d45f5bc2",
   "metadata": {},
   "source": [
    "### Link / Source"
   ]
  },
  {
   "cell_type": "markdown",
   "id": "e0ba7851",
   "metadata": {},
   "source": [
    "Hackerrank:"
   ]
  },
  {
   "cell_type": "markdown",
   "id": "7c971d9d",
   "metadata": {},
   "source": [
    "Leetcode:"
   ]
  },
  {
   "cell_type": "markdown",
   "id": "b4b2d7ac",
   "metadata": {},
   "source": [
    "----"
   ]
  },
  {
   "cell_type": "markdown",
   "id": "0495630b",
   "metadata": {},
   "source": [
    "# Pseudo-code"
   ]
  },
  {
   "cell_type": "markdown",
   "id": "3bcf1563",
   "metadata": {},
   "source": [
    "Run scenarios here: "
   ]
  },
  {
   "cell_type": "markdown",
   "id": "7185020e",
   "metadata": {},
   "source": [
    "----"
   ]
  },
  {
   "cell_type": "markdown",
   "id": "399c08db",
   "metadata": {},
   "source": [
    "# Solution"
   ]
  },
  {
   "cell_type": "code",
   "execution_count": null,
   "id": "a9d2261a",
   "metadata": {},
   "outputs": [],
   "source": []
  },
  {
   "cell_type": "markdown",
   "id": "d320ca1c",
   "metadata": {},
   "source": [
    "----"
   ]
  },
  {
   "cell_type": "markdown",
   "id": "579707d8",
   "metadata": {},
   "source": [
    "# Code in one box"
   ]
  },
  {
   "cell_type": "markdown",
   "id": "07f1712b",
   "metadata": {},
   "source": [
    "```\n",
    "Enter code here\n",
    "```"
   ]
  },
  {
   "cell_type": "markdown",
   "id": "dcdf22ef",
   "metadata": {},
   "source": [
    "----"
   ]
  },
  {
   "cell_type": "markdown",
   "id": "be96ffca",
   "metadata": {},
   "source": [
    "# Taking it further"
   ]
  },
  {
   "cell_type": "code",
   "execution_count": null,
   "id": "5375bd15",
   "metadata": {},
   "outputs": [],
   "source": []
  }
 ],
 "metadata": {
  "kernelspec": {
   "display_name": "JavaScript (Node.js)",
   "language": "javascript",
   "name": "javascript"
  },
  "language_info": {
   "file_extension": ".js",
   "mimetype": "application/javascript",
   "name": "javascript",
   "version": "18.2.0"
  }
 },
 "nbformat": 4,
 "nbformat_minor": 5
}
