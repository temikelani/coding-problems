{
 "cells": [
  {
   "cell_type": "markdown",
   "metadata": {},
   "source": [
    "# Problem: "
   ]
  },
  {
   "cell_type": "markdown",
   "metadata": {},
   "source": [
    "Print the first 10 fibnacci numbers"
   ]
  },
  {
   "cell_type": "markdown",
   "metadata": {},
   "source": [
    "----"
   ]
  },
  {
   "cell_type": "markdown",
   "metadata": {},
   "source": [
    "# Pseudo-code"
   ]
  },
  {
   "cell_type": "markdown",
   "metadata": {},
   "source": [
    "- First two fib numbers are 0 and 1\n",
    "\n",
    "- create a list with the first two numbers in then\n",
    "- recursively append the sum of the first two to the list, \n",
    "   - where \n",
    "   ```function(num) will call append then call function(num) and break when a counter (the current index of the list) matches (num-1) i.e when the lenght of the list == num```\n",
    "\n",
    "- OR\n",
    "\n",
    "- define a ```function(num) to give 0 and 1 if num are <=1 and ==2```\n",
    "- recursively return the sum in subsequent calls. \n",
    "  - where\n",
    "     ```function(num) will call function(num-1) + function(num-2)```"
   ]
  },
  {
   "cell_type": "markdown",
   "metadata": {},
   "source": [
    "----"
   ]
  },
  {
   "cell_type": "markdown",
   "metadata": {},
   "source": [
    "# Solution 1"
   ]
  },
  {
   "cell_type": "code",
   "execution_count": 5,
   "metadata": {},
   "outputs": [
    {
     "name": "stdout",
     "output_type": "stream",
     "text": [
      "[0, 1, 1, 2, 3, 5, 8, 13, 21, 34]\n"
     ]
    }
   ],
   "source": [
    "def fib2(n):\n",
    "    # The base cases\n",
    "    if n <= 1:  # First number in the sequence\n",
    "        return 0\n",
    "    elif n == 2:  # Second number in the sequence\n",
    "        return 1\n",
    "    else:\n",
    "        # Recursive call\n",
    "        return fib2(n - 1) + fib2(n - 2)\n",
    "\n",
    "print([fib2(i) for i in range(1,11)])"
   ]
  },
  {
   "cell_type": "code",
   "execution_count": 2,
   "metadata": {},
   "outputs": [
    {
     "name": "stdout",
     "output_type": "stream",
     "text": [
      "0\n",
      "1\n",
      "1\n",
      "2\n",
      "3\n"
     ]
    }
   ],
   "source": [
    "print(fib2(1)) # 0\n",
    "print(fib2(2)) # 1\n",
    "print(fib2(3)) # fib2(2) + fib2(1) = 1\n",
    "print(fib2(4)) # fib2(3) + fib2(2) = 2\n",
    "print(fib2(5)) # fib2(4) + fib2(3) = 3"
   ]
  },
  {
   "cell_type": "markdown",
   "metadata": {},
   "source": [
    "----"
   ]
  },
  {
   "cell_type": "markdown",
   "metadata": {},
   "source": [
    "# Solution 2"
   ]
  },
  {
   "cell_type": "code",
   "execution_count": 7,
   "metadata": {},
   "outputs": [
    {
     "name": "stdout",
     "output_type": "stream",
     "text": [
      "0,1,1,2,3,5,8,13,21,34\n"
     ]
    }
   ],
   "source": [
    "count = 1\n",
    "fib_nums = [0,1]\n",
    "\n",
    "def fib(n):\n",
    "    global count\n",
    "    global fib_nums\n",
    "    \n",
    "    fib_nums.append(fib_nums[count] + fib_nums[count-1])\n",
    "    count += 1\n",
    "    \n",
    "    if count == n-1:\n",
    "        print(\",\".join(str(num) for num in fib_nums))\n",
    "        return 0\n",
    "    \n",
    "    fib(n)\n",
    "    \n",
    "fib(10)"
   ]
  },
  {
   "cell_type": "markdown",
   "metadata": {},
   "source": [
    "----"
   ]
  },
  {
   "cell_type": "markdown",
   "metadata": {},
   "source": [
    "# Code in one box"
   ]
  },
  {
   "cell_type": "markdown",
   "metadata": {},
   "source": [
    "```\n",
    "def fib2(n):\n",
    "    # The base cases\n",
    "    if n <= 1:  # First number in the sequence\n",
    "        return 0\n",
    "    elif n == 2:  # Second number in the sequence\n",
    "        return 1\n",
    "    else:\n",
    "        # Recursive call\n",
    "        return fib2(n - 1) + fib2(n - 2)\n",
    "\n",
    "print([fib2(i) for i in range(1,11)])\n",
    "\n",
    "#--------------------------------------------------\n",
    "\n",
    "count = 1\n",
    "fib_nums = [0,1]\n",
    "\n",
    "def fib(n):\n",
    "    global count\n",
    "    global fib_nums\n",
    "    \n",
    "    fib_nums.append(fib_nums[count] + fib_nums[count-1])\n",
    "    count += 1\n",
    "    \n",
    "    if count == n-1:\n",
    "        print(\",\".join(str(num) for num in fib_nums))\n",
    "        return 0\n",
    "    \n",
    "    fib(n)\n",
    "    \n",
    "fib(10)\n",
    "```"
   ]
  },
  {
   "cell_type": "markdown",
   "metadata": {},
   "source": [
    "----"
   ]
  },
  {
   "cell_type": "markdown",
   "metadata": {},
   "source": [
    "# Taking it further"
   ]
  },
  {
   "cell_type": "code",
   "execution_count": null,
   "metadata": {},
   "outputs": [],
   "source": []
  },
  {
   "cell_type": "markdown",
   "metadata": {},
   "source": [
    "----"
   ]
  }
 ],
 "metadata": {
  "kernelspec": {
   "display_name": "Python 3 (ipykernel)",
   "language": "python",
   "name": "python3"
  },
  "language_info": {
   "codemirror_mode": {
    "name": "ipython",
    "version": 3
   },
   "file_extension": ".py",
   "mimetype": "text/x-python",
   "name": "python",
   "nbconvert_exporter": "python",
   "pygments_lexer": "ipython3",
   "version": "3.9.13"
  }
 },
 "nbformat": 4,
 "nbformat_minor": 4
}
