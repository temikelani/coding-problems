{
 "cells": [
  {
   "cell_type": "markdown",
   "id": "fb4781bf",
   "metadata": {},
   "source": [
    "# Problem: "
   ]
  },
  {
   "cell_type": "markdown",
   "id": "0de9d918",
   "metadata": {
    "scrolled": true
   },
   "source": [
    "![](./images/.png)"
   ]
  },
  {
   "cell_type": "markdown",
   "id": "4bb27745",
   "metadata": {},
   "source": [
    "### Link / Source"
   ]
  },
  {
   "cell_type": "markdown",
   "id": "7067fe7a",
   "metadata": {},
   "source": [
    "Hackerrank:"
   ]
  },
  {
   "cell_type": "markdown",
   "id": "0171cb89",
   "metadata": {},
   "source": [
    "Leetcode:"
   ]
  },
  {
   "cell_type": "markdown",
   "id": "aac89f5d",
   "metadata": {},
   "source": [
    "----"
   ]
  },
  {
   "cell_type": "markdown",
   "id": "5e2a8627",
   "metadata": {},
   "source": [
    "# Pseudo-code"
   ]
  },
  {
   "cell_type": "markdown",
   "id": "6083b33b",
   "metadata": {},
   "source": [
    "Run scenarios here: "
   ]
  },
  {
   "cell_type": "markdown",
   "id": "2f10d822",
   "metadata": {},
   "source": [
    "----"
   ]
  },
  {
   "cell_type": "markdown",
   "id": "6e675f0b",
   "metadata": {},
   "source": [
    "# Solution"
   ]
  },
  {
   "cell_type": "code",
   "execution_count": null,
   "id": "de5dc27c",
   "metadata": {},
   "outputs": [],
   "source": []
  },
  {
   "cell_type": "markdown",
   "id": "7749b0f7",
   "metadata": {},
   "source": [
    "----"
   ]
  },
  {
   "cell_type": "markdown",
   "id": "cb94c0df",
   "metadata": {},
   "source": [
    "# Test Cases\n",
    "- Try at least 3"
   ]
  },
  {
   "cell_type": "markdown",
   "id": "4a28c029",
   "metadata": {},
   "source": [
    "----"
   ]
  },
  {
   "cell_type": "markdown",
   "id": "2aa7fce7",
   "metadata": {},
   "source": [
    "# Taking it further"
   ]
  },
  {
   "cell_type": "code",
   "execution_count": null,
   "id": "cc5acca2",
   "metadata": {},
   "outputs": [],
   "source": []
  },
  {
   "cell_type": "markdown",
   "id": "c4cb8cff",
   "metadata": {},
   "source": [
    "----"
   ]
  }
 ],
 "metadata": {
  "kernelspec": {
   "display_name": "JavaScript (Node.js)",
   "language": "javascript",
   "name": "javascript"
  },
  "language_info": {
   "file_extension": ".js",
   "mimetype": "application/javascript",
   "name": "javascript",
   "version": "18.2.0"
  }
 },
 "nbformat": 4,
 "nbformat_minor": 5
}
